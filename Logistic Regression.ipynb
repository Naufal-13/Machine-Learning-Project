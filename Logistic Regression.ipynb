{
 "cells": [
  {
   "cell_type": "markdown",
   "id": "5e19aa16",
   "metadata": {},
   "source": [
    "# Import Modul"
   ]
  },
  {
   "cell_type": "code",
   "execution_count": 1,
   "id": "1bb12ce3",
   "metadata": {},
   "outputs": [],
   "source": [
    "import numpy as np\n",
    "import matplotlib.pyplot as plt"
   ]
  },
  {
   "cell_type": "markdown",
   "id": "50d331f8",
   "metadata": {},
   "source": [
    "# Sample Dataset Persentase Performa Benchmark"
   ]
  },
  {
   "cell_type": "code",
   "execution_count": 2,
   "id": "4d381f16",
   "metadata": {},
   "outputs": [],
   "source": [
    "# Percentage\n",
    "x = np.array([15, 20, 37, 50, 25, 60, 69, 45, 53, 31,\n",
    "             70, 100, 84, 93, 77, 83, 98, 99, 71, 86])\n",
    "\n",
    "# Fast (1) / Slow (0)\n",
    "y = np.array([0, 0, 0, 0, 0, 0, 0, 0, 0, 0,\n",
    "             1, 1, 1, 1, 1, 1, 1, 1, 1, 1])"
   ]
  },
  {
   "cell_type": "code",
   "execution_count": null,
   "id": "93573a04",
   "metadata": {},
   "outputs": [],
   "source": []
  }
 ],
 "metadata": {
  "kernelspec": {
   "display_name": "Python 3 (ipykernel)",
   "language": "python",
   "name": "python3"
  },
  "language_info": {
   "codemirror_mode": {
    "name": "ipython",
    "version": 3
   },
   "file_extension": ".py",
   "mimetype": "text/x-python",
   "name": "python",
   "nbconvert_exporter": "python",
   "pygments_lexer": "ipython3",
   "version": "3.11.4"
  }
 },
 "nbformat": 4,
 "nbformat_minor": 5
}
